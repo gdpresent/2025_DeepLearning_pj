{
 "cells": [
  {
   "cell_type": "code",
   "execution_count": 103,
   "id": "18637e20-3ee8-495f-8b4e-78b914c3cb7b",
   "metadata": {},
   "outputs": [],
   "source": [
    "import torch\n",
    "from torch.cuda.amp import autocast, GradScaler\n",
    "from torch.utils.data import DataLoader, Subset, Dataset\n",
    "from torchvision import transforms\n",
    "from torch import nn, optim\n",
    "\n",
    "from sklearn.model_selection import StratifiedShuffleSplit\n",
    "from sklearn.metrics import (accuracy_score,precision_score,recall_score,f1_score,confusion_matrix,classification_report,)\n",
    "\n",
    "from datetime import datetime\n",
    "from tqdm import tqdm\n",
    "\n",
    "import os\n",
    "import pandas as pd\n",
    "import numpy as np\n",
    "import h5py\n",
    "import time\n",
    "import warnings\n",
    "warnings.filterwarnings('ignore')"
   ]
  },
  {
   "cell_type": "code",
   "execution_count": 105,
   "id": "d9ba54ed-673f-4333-bff7-da1e4e03ce75",
   "metadata": {},
   "outputs": [],
   "source": [
    "# =========================\n",
    "# [UTIL] Parquet 파일 저장/로딩\n",
    "# =========================\n",
    "def save_as_pd_parquet(location, pandas_df_form):\n",
    "    start = time.time()\n",
    "    pandas_df_form.to_parquet(f'{location}')\n",
    "    print(f'Saving Complete({round((time.time() - start) / 60, 2)}min): {location}')\n",
    "\n",
    "def read_pd_parquet(location):\n",
    "    start = time.time()\n",
    "    read = pd.read_parquet(location)\n",
    "    print(f'[LOAD OK] {location}')\n",
    "    return read\n",
    "\n",
    "# =========================\n",
    "# [SE Block] 채널별 특성 강조\n",
    "# =========================\n",
    "class SEBlock(nn.Module):\n",
    "    def __init__(self, channel, reduction=16):\n",
    "        super(SEBlock, self).__init__()\n",
    "        self.global_avgpool = nn.AdaptiveAvgPool2d(1)\n",
    "        self.fc = nn.Sequential(\n",
    "            nn.Linear(channel, channel // reduction, bias=False),\n",
    "            nn.ReLU(inplace=True),\n",
    "            nn.Linear(channel // reduction, channel, bias=False),\n",
    "            nn.Sigmoid()\n",
    "        )\n",
    "\n",
    "    def forward(self, x):\n",
    "        b, c, _, _ = x.size()\n",
    "        y = self.global_avgpool(x).view(b, c)\n",
    "        y = self.fc(y).view(b, c, 1, 1)\n",
    "        return x * y.expand_as(x)\n",
    "\n",
    "# =========================\n",
    "# [CNN 모델] SEBlock 포함 VGG-style 구조\n",
    "# =========================\n",
    "class SENet_CNN_5day(nn.Module):\n",
    "    def __init__(self, dr_rate=0.5, stt_chnl=3):\n",
    "        super().__init__()\n",
    "        self.conv1 = nn.Sequential(\n",
    "            nn.Conv2d(stt_chnl, 64, kernel_size=(5, 3), padding=(2, 1)),\n",
    "            nn.BatchNorm2d(64),\n",
    "            nn.LeakyReLU(),\n",
    "            SEBlock(64),\n",
    "            nn.MaxPool2d((2, 1))\n",
    "        )\n",
    "        self.conv1.apply(self.init_weights)\n",
    "\n",
    "        self.conv2 = nn.Sequential(\n",
    "            nn.Conv2d(64, 128, kernel_size=(5, 3), padding=(2, 1)),\n",
    "            nn.BatchNorm2d(128),\n",
    "            nn.LeakyReLU(),\n",
    "            SEBlock(128),\n",
    "            nn.MaxPool2d((2, 1))\n",
    "        )\n",
    "        self.conv2.apply(self.init_weights)\n",
    "\n",
    "        self.dropout = nn.Dropout(dr_rate)\n",
    "        self.fc = nn.Linear(15360, 2)\n",
    "\n",
    "    def init_weights(self, m):\n",
    "        if isinstance(m, nn.Linear) or isinstance(m, nn.Conv2d):\n",
    "            torch.nn.init.xavier_uniform_(m.weight)\n",
    "            if m.bias is not None:\n",
    "                m.bias.data.fill_(0.01)\n",
    "\n",
    "    def forward(self, x):\n",
    "        x = self.conv1(x)\n",
    "        x = self.conv2(x)\n",
    "        x = torch.flatten(x, start_dim=1)\n",
    "        x = self.dropout(x)\n",
    "        x = self.fc(x)\n",
    "        return x\n",
    "\n",
    "# =========================\n",
    "# [라벨링 함수] 수익률 기준 이진 라벨링\n",
    "# =========================\n",
    "def labeling_v1(lb_tmp):\n",
    "    return 1 if lb_tmp > 0 else 0\n",
    "\n",
    "# =========================\n",
    "# [AMP Epoch Loss] (Train/Val)\n",
    "# =========================\n",
    "def loss_epoch_AMP(model, dataloader, criterion, DEVICE, optimizer=None, scaler=None):\n",
    "    N = len(dataloader.dataset)\n",
    "    running_loss = 0.0\n",
    "    running_correct = 0\n",
    "\n",
    "    for x_batch, y_batch in tqdm(dataloader):\n",
    "        x_batch = x_batch.to(DEVICE, non_blocking=True)\n",
    "        y_batch = y_batch.to(DEVICE, non_blocking=True)\n",
    "\n",
    "        with autocast():\n",
    "            y_hat = model(x_batch)\n",
    "            loss = criterion(y_hat, y_batch)\n",
    "\n",
    "        if optimizer is not None:\n",
    "            scaler.scale(loss).backward()\n",
    "            scaler.step(optimizer)\n",
    "            scaler.update()\n",
    "            optimizer.zero_grad()\n",
    "\n",
    "        running_loss += loss.item() * x_batch.shape[0]\n",
    "        preds = y_hat.argmax(dim=1)\n",
    "        running_correct += torch.sum(preds == y_batch).item()\n",
    "\n",
    "    loss_epoch = running_loss / N\n",
    "    accuracy_epoch = running_correct / N * 100\n",
    "    return loss_epoch, accuracy_epoch, running_correct\n",
    "\n",
    "# =========================\n",
    "# [Training Loop with Early Stopping + AMP]\n",
    "# =========================\n",
    "def Train_Nepoch_ES_AMP(model, train_DL, val_DL, criterion, DEVICE, optimizer, EPOCH, BATCH_SIZE,\n",
    "                        TRAIN_RATIO, save_model_path, save_history_path, N_EPOCH_ES, init_val_loss=1e20, **kwargs):\n",
    "    scaler = GradScaler()\n",
    "\n",
    "    if \"LR_STEP\" in kwargs:\n",
    "        from torch.optim.lr_scheduler import StepLR\n",
    "        scheduler = StepLR(optimizer, step_size=kwargs[\"LR_STEP\"], gamma=kwargs[\"LR_GAMMA\"])\n",
    "    else:\n",
    "        scheduler = None\n",
    "\n",
    "    loss_history = {\"train\": [], \"val\": []}\n",
    "    acc_history = {\"train\": [], \"val\": []}\n",
    "    print(f'Initial Validation Loss: {init_val_loss}')\n",
    "    no_improve_count = 0\n",
    "\n",
    "    for ep in range(EPOCH):\n",
    "        epoch_start = time.time()\n",
    "        current_lr = optimizer.param_groups[0][\"lr\"]\n",
    "        print(f\"[Epoch {ep+1}/{EPOCH}] LR={current_lr}\")\n",
    "\n",
    "        model.train()\n",
    "        train_loss, train_acc, _ = loss_epoch_AMP(model, train_DL, criterion, DEVICE, optimizer, scaler)\n",
    "        loss_history[\"train\"].append(train_loss)\n",
    "        acc_history[\"train\"].append(train_acc)\n",
    "\n",
    "        model.eval()\n",
    "        with torch.no_grad():\n",
    "            val_loss, val_acc, _ = loss_epoch_AMP(model, val_DL, criterion, DEVICE)\n",
    "\n",
    "        loss_history[\"val\"].append(val_loss)\n",
    "        acc_history[\"val\"].append(val_acc)\n",
    "\n",
    "        if scheduler is not None:\n",
    "            scheduler.step()\n",
    "\n",
    "        if val_loss < init_val_loss:\n",
    "            init_val_loss = val_loss\n",
    "            print(f\"--> best val loss updated: {round(init_val_loss, 5)}\")\n",
    "            no_improve_count = 0\n",
    "            torch.save(model.state_dict(), save_model_path)\n",
    "        else:\n",
    "            no_improve_count += 1\n",
    "\n",
    "        print(f\"[Train] loss={train_loss:.5f}, acc={train_acc:.2f} | \"\n",
    "              f\"[Val] loss={val_loss:.5f}, acc={val_acc:.2f}  \"\n",
    "              f\"(no_improve_count={no_improve_count}) | time: {round(time.time() - epoch_start)}s\")\n",
    "        print(\"-\" * 50)\n",
    "\n",
    "        if no_improve_count >= N_EPOCH_ES:\n",
    "            print(\"Early stopping triggered.\")\n",
    "            break\n",
    "\n",
    "    torch.save({\n",
    "        \"loss_history\": loss_history,\n",
    "        \"acc_history\": acc_history,\n",
    "        \"EPOCH\": EPOCH,\n",
    "        \"BATCH_SIZE\": BATCH_SIZE,\n",
    "        \"TRAIN_RATIO\": TRAIN_RATIO\n",
    "    }, save_history_path)\n",
    "\n",
    "    return acc_history['train'][-1], acc_history['val'][-1], len(acc_history['train'])\n",
    "\n",
    "# =========================\n",
    "# [Test Loop]\n",
    "# =========================\n",
    "def eval_loop(dataloader, net, loss_fn, DEVICE):\n",
    "    net.eval()\n",
    "    running_loss = 0.0\n",
    "    current = 0\n",
    "    predict = []\n",
    "    codes, dates, returns, target = [], [], [], []\n",
    "\n",
    "    with torch.no_grad():\n",
    "        with tqdm(dataloader) as t:\n",
    "            for batch, (img, code, date, rets, label) in enumerate(t):\n",
    "                X = img.to(DEVICE)\n",
    "                y = label.to(DEVICE)\n",
    "                y_pred = net(X)\n",
    "\n",
    "                target.append(y.detach())\n",
    "                codes.extend(code)\n",
    "                dates.extend(date)\n",
    "                returns.append(rets.detach())\n",
    "                predict.append(y_pred.detach())\n",
    "\n",
    "                loss = loss_fn(y_pred, y.long())\n",
    "                running_loss += loss.item() * len(X)\n",
    "                avg_loss = running_loss / (current + len(X))\n",
    "                t.set_postfix({'running_loss': avg_loss})\n",
    "                current += len(X)\n",
    "\n",
    "    returns = torch.cat(returns).cpu().numpy()\n",
    "    targets = torch.cat(target).cpu().numpy()\n",
    "    return avg_loss, torch.cat(predict), codes, dates, returns, targets\n",
    "\n",
    "# =========================\n",
    "# [데이터셋 클래스] 이미지 + 메타데이터 조합\n",
    "# =========================\n",
    "class CustomDataset_all(Dataset):\n",
    "    def __init__(self, image_data_path, DB_path, data_source, train, data_date,\n",
    "                 stt_date=None, until_date=None, transform=None,\n",
    "                 Pred_Hrz=20, cap_criterion=0.0, F_day_type=20, T_day_type=20, country=\"KR\"):\n",
    "        self.transform = transform\n",
    "        self.train = train\n",
    "        self.image_data_path = image_data_path\n",
    "        self.DB_path = DB_path\n",
    "        self.data_source = data_source\n",
    "        self.data_date = data_date\n",
    "        self.country = country\n",
    "\n",
    "        until_date = pd.to_datetime(until_date)\n",
    "        stt_date = pd.to_datetime(stt_date)\n",
    "        years = [x for x in range(stt_date.year, until_date.year + 1)]\n",
    "\n",
    "        self.ExPost = self.get_ExPost_return(Pred_Hrz)\n",
    "        self.last_date = self.ExPost.index[-1]\n",
    "        self.date_code_list_MiniCap_remove = self.get_date_code_list_MiniCap_remove(until_date, stt_date, cap_criterion)\n",
    "\n",
    "        self.data, self.codes, self.dates, self.returns, self.labels = [], [], [], [], []\n",
    "        for year in tqdm(years[::-1], desc='### Data Loading ###'):\n",
    "            file_path = f\"{image_data_path}/{F_day_type}day_to_{T_day_type}day_{year}.h5\"\n",
    "            if not os.path.exists(file_path):\n",
    "                print(f'파일 없음: {file_path}')\n",
    "                continue\n",
    "            with h5py.File(file_path, 'r') as hf:\n",
    "                images = hf['images'][:]\n",
    "                codes = [s.decode('utf-8') for s in hf['codes'][:]]\n",
    "                dates = [s.decode('utf-8') for s in hf['dates'][:]]\n",
    "                for img, code, date in zip(images, codes, dates):\n",
    "                    if f'{date}_{code}' in self.date_code_list_MiniCap_remove:\n",
    "                        ret = self.ExPost.loc[pd.to_datetime(date), code]\n",
    "                        lab = labeling_v1(ret)\n",
    "                        self.data.append(img)\n",
    "                        self.codes.append(code)\n",
    "                        self.dates.append(date)\n",
    "                        self.returns.append(ret)\n",
    "                        self.labels.append(lab)\n",
    "\n",
    "        if self.train:\n",
    "            self.codes, self.dates, self.returns = [], [], []  # 학습 시 메모리 최소화\n",
    "\n",
    "    def __len__(self):\n",
    "        return len(self.data)\n",
    "\n",
    "    def __getitem__(self, idx):\n",
    "        img = self.data[idx]\n",
    "        label = self.labels[idx]\n",
    "        if self.transform:\n",
    "            img = self.transform(img)\n",
    "        if self.train:\n",
    "            return img, label\n",
    "        else:\n",
    "            return img, self.codes[idx], self.dates[idx], self.returns[idx], label\n",
    "\n",
    "    def get_ExPost_return(self, n_day):\n",
    "        path = f'{self.DB_path}/{self.country}_ExPost_return_{n_day}_{self.data_date}.hd5'\n",
    "        if not os.path.exists(path):\n",
    "            raise ValueError(f\"ExPost 파일 없음: {path}\")\n",
    "        return read_pd_parquet(path)\n",
    "\n",
    "    def get_date_code_list_MiniCap_remove(self, until_date, stt_date, cap_criterion):\n",
    "        path = f'{self.DB_path}/{self.country}_mktcap_{self.data_date}.hd5'\n",
    "        if not os.path.exists(path):\n",
    "            raise ValueError(f\"시가총액 파일 없음: {path}\")\n",
    "        Cap_df_raw = read_pd_parquet(path)\n",
    "        Cap_df_raw = Cap_df_raw.loc[stt_date:until_date]\n",
    "        Cap_df_filtered = Cap_df_raw[Cap_df_raw.rank(pct=True, axis=1) >= cap_criterion]\n",
    "\n",
    "        dt_code_set = set()\n",
    "        for dt, code in tqdm(Cap_df_filtered.stack().index, desc=f'시가총액 하위 {int(cap_criterion * 100)}% 종목 제거 리스트'):\n",
    "            dt_code_set.add(f'{dt.strftime(\"%Y%m%d\")}_{code}')\n",
    "        return dt_code_set\n"
   ]
  },
  {
   "cell_type": "code",
   "execution_count": 113,
   "id": "eb3c4559-02f0-44ad-9848-6d97213de037",
   "metadata": {},
   "outputs": [
    {
     "name": "stdout",
     "output_type": "stream",
     "text": [
      "[DEVICE] cuda\n",
      "[LOAD OK] C:/Users/flydc/jupyter_project/pjt1_deep_learning/hd5_image/KR_ExPost_return_5_20250527.hd5\n",
      "[LOAD OK] C:/Users/flydc/jupyter_project/pjt1_deep_learning/hd5_image/KR_mktcap_20250527.hd5\n"
     ]
    },
    {
     "name": "stderr",
     "output_type": "stream",
     "text": [
      "시가총액 하위 0% 종목 제거 리스트: 100%|█████████████████████████████████| 1692239/1692239 [00:07<00:00, 225189.75it/s]\n",
      "### Data Loading ###: 100%|█████████████████████████████████████████████████████████████| 2/2 [05:38<00:00, 169.48s/it]\n"
     ]
    },
    {
     "name": "stdout",
     "output_type": "stream",
     "text": [
      "\n",
      "=========== [Iteration 1] ===========\n",
      "Initial Validation Loss: 1e+20\n",
      "[Epoch 1/1000] LR=1e-05\n"
     ]
    },
    {
     "name": "stderr",
     "output_type": "stream",
     "text": [
      "100%|██████████████████████████████████████████████████████████████████████████████| 8600/8600 [01:34<00:00, 91.09it/s]\n",
      "100%|█████████████████████████████████████████████████████████████████████████████| 3686/3686 [00:20<00:00, 176.34it/s]\n"
     ]
    },
    {
     "name": "stdout",
     "output_type": "stream",
     "text": [
      "--> best val loss updated: 0.6868\n",
      "[Train] loss=0.69877, acc=52.80 | [Val] loss=0.68680, acc=54.67  (no_improve_count=0) | time: 115s\n",
      "--------------------------------------------------\n",
      "[Epoch 2/1000] LR=1e-05\n"
     ]
    },
    {
     "name": "stderr",
     "output_type": "stream",
     "text": [
      "100%|██████████████████████████████████████████████████████████████████████████████| 8600/8600 [01:34<00:00, 91.14it/s]\n",
      "100%|█████████████████████████████████████████████████████████████████████████████| 3686/3686 [00:21<00:00, 171.66it/s]\n"
     ]
    },
    {
     "name": "stdout",
     "output_type": "stream",
     "text": [
      "--> best val loss updated: 0.68571\n",
      "[Train] loss=0.69074, acc=53.88 | [Val] loss=0.68571, acc=55.06  (no_improve_count=0) | time: 116s\n",
      "--------------------------------------------------\n",
      "[Epoch 3/1000] LR=1e-05\n"
     ]
    },
    {
     "name": "stderr",
     "output_type": "stream",
     "text": [
      "100%|██████████████████████████████████████████████████████████████████████████████| 8600/8600 [01:34<00:00, 90.96it/s]\n",
      "100%|█████████████████████████████████████████████████████████████████████████████| 3686/3686 [00:22<00:00, 164.20it/s]\n"
     ]
    },
    {
     "name": "stdout",
     "output_type": "stream",
     "text": [
      "[Train] loss=0.68816, acc=54.44 | [Val] loss=0.68580, acc=55.01  (no_improve_count=1) | time: 117s\n",
      "--------------------------------------------------\n",
      "[Epoch 4/1000] LR=1e-05\n"
     ]
    },
    {
     "name": "stderr",
     "output_type": "stream",
     "text": [
      "100%|██████████████████████████████████████████████████████████████████████████████| 8600/8600 [01:35<00:00, 90.01it/s]\n",
      "100%|█████████████████████████████████████████████████████████████████████████████| 3686/3686 [00:21<00:00, 171.08it/s]\n"
     ]
    },
    {
     "name": "stdout",
     "output_type": "stream",
     "text": [
      "--> best val loss updated: 0.68525\n",
      "[Train] loss=0.68686, acc=54.78 | [Val] loss=0.68525, acc=55.08  (no_improve_count=0) | time: 117s\n",
      "--------------------------------------------------\n",
      "[Epoch 5/1000] LR=1e-05\n"
     ]
    },
    {
     "name": "stderr",
     "output_type": "stream",
     "text": [
      "100%|██████████████████████████████████████████████████████████████████████████████| 8600/8600 [01:34<00:00, 90.90it/s]\n",
      "100%|█████████████████████████████████████████████████████████████████████████████| 3686/3686 [00:21<00:00, 174.36it/s]\n"
     ]
    },
    {
     "name": "stdout",
     "output_type": "stream",
     "text": [
      "[Train] loss=0.68614, acc=54.95 | [Val] loss=0.68540, acc=55.08  (no_improve_count=1) | time: 116s\n",
      "--------------------------------------------------\n",
      "[Epoch 6/1000] LR=1e-05\n"
     ]
    },
    {
     "name": "stderr",
     "output_type": "stream",
     "text": [
      "100%|██████████████████████████████████████████████████████████████████████████████| 8600/8600 [01:33<00:00, 92.07it/s]\n",
      "100%|█████████████████████████████████████████████████████████████████████████████| 3686/3686 [00:21<00:00, 174.49it/s]\n"
     ]
    },
    {
     "name": "stdout",
     "output_type": "stream",
     "text": [
      "--> best val loss updated: 0.68503\n",
      "[Train] loss=0.68569, acc=55.03 | [Val] loss=0.68503, acc=55.17  (no_improve_count=0) | time: 115s\n",
      "--------------------------------------------------\n",
      "[Epoch 7/1000] LR=1e-05\n"
     ]
    },
    {
     "name": "stderr",
     "output_type": "stream",
     "text": [
      "100%|██████████████████████████████████████████████████████████████████████████████| 8600/8600 [01:34<00:00, 90.93it/s]\n",
      "100%|█████████████████████████████████████████████████████████████████████████████| 3686/3686 [00:21<00:00, 168.67it/s]\n"
     ]
    },
    {
     "name": "stdout",
     "output_type": "stream",
     "text": [
      "--> best val loss updated: 0.6847\n",
      "[Train] loss=0.68523, acc=55.17 | [Val] loss=0.68470, acc=55.26  (no_improve_count=0) | time: 116s\n",
      "--------------------------------------------------\n",
      "[Epoch 8/1000] LR=1e-05\n"
     ]
    },
    {
     "name": "stderr",
     "output_type": "stream",
     "text": [
      "100%|██████████████████████████████████████████████████████████████████████████████| 8600/8600 [01:35<00:00, 90.30it/s]\n",
      "100%|█████████████████████████████████████████████████████████████████████████████| 3686/3686 [00:20<00:00, 181.45it/s]\n"
     ]
    },
    {
     "name": "stdout",
     "output_type": "stream",
     "text": [
      "--> best val loss updated: 0.68432\n",
      "[Train] loss=0.68491, acc=55.26 | [Val] loss=0.68432, acc=55.43  (no_improve_count=0) | time: 116s\n",
      "--------------------------------------------------\n",
      "[Epoch 9/1000] LR=1e-05\n"
     ]
    },
    {
     "name": "stderr",
     "output_type": "stream",
     "text": [
      "100%|██████████████████████████████████████████████████████████████████████████████| 8600/8600 [01:34<00:00, 90.69it/s]\n",
      "100%|█████████████████████████████████████████████████████████████████████████████| 3686/3686 [00:22<00:00, 166.70it/s]\n"
     ]
    },
    {
     "name": "stdout",
     "output_type": "stream",
     "text": [
      "[Train] loss=0.68456, acc=55.33 | [Val] loss=0.68448, acc=55.38  (no_improve_count=1) | time: 117s\n",
      "--------------------------------------------------\n",
      "[Epoch 10/1000] LR=1e-05\n"
     ]
    },
    {
     "name": "stderr",
     "output_type": "stream",
     "text": [
      "100%|██████████████████████████████████████████████████████████████████████████████| 8600/8600 [01:34<00:00, 91.33it/s]\n",
      "100%|█████████████████████████████████████████████████████████████████████████████| 3686/3686 [00:21<00:00, 174.28it/s]\n"
     ]
    },
    {
     "name": "stdout",
     "output_type": "stream",
     "text": [
      "[Train] loss=0.68451, acc=55.36 | [Val] loss=0.68594, acc=54.69  (no_improve_count=2) | time: 115s\n",
      "--------------------------------------------------\n",
      "[Epoch 11/1000] LR=1e-05\n"
     ]
    },
    {
     "name": "stderr",
     "output_type": "stream",
     "text": [
      "100%|██████████████████████████████████████████████████████████████████████████████| 8600/8600 [01:35<00:00, 90.48it/s]\n",
      "100%|█████████████████████████████████████████████████████████████████████████████| 3686/3686 [00:20<00:00, 179.02it/s]\n"
     ]
    },
    {
     "name": "stdout",
     "output_type": "stream",
     "text": [
      "[Train] loss=0.68410, acc=55.46 | [Val] loss=0.68502, acc=55.25  (no_improve_count=3) | time: 116s\n",
      "--------------------------------------------------\n",
      "Early stopping triggered.\n",
      "[LOAD OK] C:/Users/flydc/jupyter_project/pjt1_deep_learning/hd5_image/KR_ExPost_return_5_20250527.hd5\n",
      "[LOAD OK] C:/Users/flydc/jupyter_project/pjt1_deep_learning/hd5_image/KR_mktcap_20250527.hd5\n"
     ]
    },
    {
     "name": "stderr",
     "output_type": "stream",
     "text": [
      "시가총액 하위 0% 종목 제거 리스트: 100%|█████████████████████████████████| 1257264/1257264 [00:05<00:00, 220680.27it/s]\n",
      "### Data Loading ###: 100%|█████████████████████████████████████████████████████████████| 2/2 [04:12<00:00, 126.29s/it]\n",
      "100%|██████████████████████████████████████████████████████████| 4567/4567 [01:08<00:00, 66.19it/s, running_loss=0.689]\n"
     ]
    },
    {
     "name": "stdout",
     "output_type": "stream",
     "text": [
      "==============================\n",
      "[1] Accuracy  : 54.10%\n",
      "[1] Precision : 51.66%\n",
      "[1] Recall    : 24.04%\n",
      "[1] F1 Score  : 32.81%\n",
      "\n",
      "=========== [Iteration 2] ===========\n",
      "Initial Validation Loss: 1e+20\n",
      "[Epoch 1/1000] LR=1e-05\n"
     ]
    },
    {
     "name": "stderr",
     "output_type": "stream",
     "text": [
      "100%|██████████████████████████████████████████████████████████████████████████████| 8600/8600 [01:34<00:00, 90.94it/s]\n",
      "100%|█████████████████████████████████████████████████████████████████████████████| 3686/3686 [00:20<00:00, 181.57it/s]\n"
     ]
    },
    {
     "name": "stdout",
     "output_type": "stream",
     "text": [
      "--> best val loss updated: 0.68633\n",
      "[Train] loss=0.69864, acc=52.86 | [Val] loss=0.68633, acc=54.89  (no_improve_count=0) | time: 115s\n",
      "--------------------------------------------------\n",
      "[Epoch 2/1000] LR=1e-05\n"
     ]
    },
    {
     "name": "stderr",
     "output_type": "stream",
     "text": [
      "100%|██████████████████████████████████████████████████████████████████████████████| 8600/8600 [01:34<00:00, 91.21it/s]\n",
      "100%|█████████████████████████████████████████████████████████████████████████████| 3686/3686 [00:21<00:00, 174.35it/s]\n"
     ]
    },
    {
     "name": "stdout",
     "output_type": "stream",
     "text": [
      "--> best val loss updated: 0.68576\n",
      "[Train] loss=0.69049, acc=54.00 | [Val] loss=0.68576, acc=54.98  (no_improve_count=0) | time: 115s\n",
      "--------------------------------------------------\n",
      "[Epoch 3/1000] LR=1e-05\n"
     ]
    },
    {
     "name": "stderr",
     "output_type": "stream",
     "text": [
      "100%|██████████████████████████████████████████████████████████████████████████████| 8600/8600 [01:34<00:00, 90.89it/s]\n",
      "100%|█████████████████████████████████████████████████████████████████████████████| 3686/3686 [00:20<00:00, 176.92it/s]\n"
     ]
    },
    {
     "name": "stdout",
     "output_type": "stream",
     "text": [
      "[Train] loss=0.68795, acc=54.47 | [Val] loss=0.68664, acc=54.94  (no_improve_count=1) | time: 115s\n",
      "--------------------------------------------------\n",
      "[Epoch 4/1000] LR=1e-05\n"
     ]
    },
    {
     "name": "stderr",
     "output_type": "stream",
     "text": [
      "100%|██████████████████████████████████████████████████████████████████████████████| 8600/8600 [01:35<00:00, 90.48it/s]\n",
      "100%|█████████████████████████████████████████████████████████████████████████████| 3686/3686 [00:21<00:00, 173.56it/s]\n"
     ]
    },
    {
     "name": "stdout",
     "output_type": "stream",
     "text": [
      "--> best val loss updated: 0.68532\n",
      "[Train] loss=0.68684, acc=54.76 | [Val] loss=0.68532, acc=55.11  (no_improve_count=0) | time: 116s\n",
      "--------------------------------------------------\n",
      "[Epoch 5/1000] LR=1e-05\n"
     ]
    },
    {
     "name": "stderr",
     "output_type": "stream",
     "text": [
      "100%|██████████████████████████████████████████████████████████████████████████████| 8600/8600 [01:33<00:00, 92.38it/s]\n",
      "100%|█████████████████████████████████████████████████████████████████████████████| 3686/3686 [00:21<00:00, 170.66it/s]\n"
     ]
    },
    {
     "name": "stdout",
     "output_type": "stream",
     "text": [
      "--> best val loss updated: 0.68464\n",
      "[Train] loss=0.68603, acc=54.99 | [Val] loss=0.68464, acc=55.29  (no_improve_count=0) | time: 115s\n",
      "--------------------------------------------------\n",
      "[Epoch 6/1000] LR=1e-05\n"
     ]
    },
    {
     "name": "stderr",
     "output_type": "stream",
     "text": [
      "100%|██████████████████████████████████████████████████████████████████████████████| 8600/8600 [01:34<00:00, 91.43it/s]\n",
      "100%|█████████████████████████████████████████████████████████████████████████████| 3686/3686 [00:22<00:00, 165.59it/s]\n"
     ]
    },
    {
     "name": "stdout",
     "output_type": "stream",
     "text": [
      "--> best val loss updated: 0.68447\n",
      "[Train] loss=0.68561, acc=55.10 | [Val] loss=0.68447, acc=55.41  (no_improve_count=0) | time: 116s\n",
      "--------------------------------------------------\n",
      "[Epoch 7/1000] LR=1e-05\n"
     ]
    },
    {
     "name": "stderr",
     "output_type": "stream",
     "text": [
      "100%|██████████████████████████████████████████████████████████████████████████████| 8600/8600 [01:34<00:00, 90.60it/s]\n",
      "100%|█████████████████████████████████████████████████████████████████████████████| 3686/3686 [00:21<00:00, 174.64it/s]\n"
     ]
    },
    {
     "name": "stdout",
     "output_type": "stream",
     "text": [
      "--> best val loss updated: 0.68429\n",
      "[Train] loss=0.68513, acc=55.23 | [Val] loss=0.68429, acc=55.38  (no_improve_count=0) | time: 116s\n",
      "--------------------------------------------------\n",
      "[Epoch 8/1000] LR=1e-05\n"
     ]
    },
    {
     "name": "stderr",
     "output_type": "stream",
     "text": [
      "100%|██████████████████████████████████████████████████████████████████████████████| 8600/8600 [01:38<00:00, 87.57it/s]\n",
      "100%|█████████████████████████████████████████████████████████████████████████████| 3686/3686 [00:21<00:00, 175.34it/s]\n"
     ]
    },
    {
     "name": "stdout",
     "output_type": "stream",
     "text": [
      "--> best val loss updated: 0.68426\n",
      "[Train] loss=0.68467, acc=55.29 | [Val] loss=0.68426, acc=55.40  (no_improve_count=0) | time: 119s\n",
      "--------------------------------------------------\n",
      "[Epoch 9/1000] LR=1e-05\n"
     ]
    },
    {
     "name": "stderr",
     "output_type": "stream",
     "text": [
      "100%|██████████████████████████████████████████████████████████████████████████████| 8600/8600 [01:42<00:00, 83.83it/s]\n",
      "100%|█████████████████████████████████████████████████████████████████████████████| 3686/3686 [00:20<00:00, 183.45it/s]\n"
     ]
    },
    {
     "name": "stdout",
     "output_type": "stream",
     "text": [
      "--> best val loss updated: 0.68399\n",
      "[Train] loss=0.68455, acc=55.36 | [Val] loss=0.68399, acc=55.51  (no_improve_count=0) | time: 123s\n",
      "--------------------------------------------------\n",
      "[Epoch 10/1000] LR=1e-05\n"
     ]
    },
    {
     "name": "stderr",
     "output_type": "stream",
     "text": [
      "100%|██████████████████████████████████████████████████████████████████████████████| 8600/8600 [01:38<00:00, 87.52it/s]\n",
      "100%|█████████████████████████████████████████████████████████████████████████████| 3686/3686 [00:22<00:00, 165.63it/s]\n"
     ]
    },
    {
     "name": "stdout",
     "output_type": "stream",
     "text": [
      "[Train] loss=0.68417, acc=55.41 | [Val] loss=0.68665, acc=54.47  (no_improve_count=1) | time: 121s\n",
      "--------------------------------------------------\n",
      "[Epoch 11/1000] LR=1e-05\n"
     ]
    },
    {
     "name": "stderr",
     "output_type": "stream",
     "text": [
      "100%|██████████████████████████████████████████████████████████████████████████████| 8600/8600 [01:34<00:00, 90.92it/s]\n",
      "100%|█████████████████████████████████████████████████████████████████████████████| 3686/3686 [00:21<00:00, 167.74it/s]\n"
     ]
    },
    {
     "name": "stdout",
     "output_type": "stream",
     "text": [
      "--> best val loss updated: 0.68378\n",
      "[Train] loss=0.68396, acc=55.51 | [Val] loss=0.68378, acc=55.63  (no_improve_count=0) | time: 117s\n",
      "--------------------------------------------------\n",
      "[Epoch 12/1000] LR=1e-05\n"
     ]
    },
    {
     "name": "stderr",
     "output_type": "stream",
     "text": [
      "100%|██████████████████████████████████████████████████████████████████████████████| 8600/8600 [01:36<00:00, 89.54it/s]\n",
      "100%|█████████████████████████████████████████████████████████████████████████████| 3686/3686 [00:21<00:00, 169.52it/s]\n"
     ]
    },
    {
     "name": "stdout",
     "output_type": "stream",
     "text": [
      "[Train] loss=0.68378, acc=55.55 | [Val] loss=0.68379, acc=55.57  (no_improve_count=1) | time: 118s\n",
      "--------------------------------------------------\n",
      "[Epoch 13/1000] LR=1e-05\n"
     ]
    },
    {
     "name": "stderr",
     "output_type": "stream",
     "text": [
      "100%|██████████████████████████████████████████████████████████████████████████████| 8600/8600 [01:34<00:00, 90.75it/s]\n",
      "100%|█████████████████████████████████████████████████████████████████████████████| 3686/3686 [00:21<00:00, 174.31it/s]\n"
     ]
    },
    {
     "name": "stdout",
     "output_type": "stream",
     "text": [
      "--> best val loss updated: 0.68371\n",
      "[Train] loss=0.68353, acc=55.59 | [Val] loss=0.68371, acc=55.60  (no_improve_count=0) | time: 116s\n",
      "--------------------------------------------------\n",
      "[Epoch 14/1000] LR=1e-05\n"
     ]
    },
    {
     "name": "stderr",
     "output_type": "stream",
     "text": [
      "100%|██████████████████████████████████████████████████████████████████████████████| 8600/8600 [01:33<00:00, 91.87it/s]\n",
      "100%|█████████████████████████████████████████████████████████████████████████████| 3686/3686 [00:21<00:00, 169.94it/s]\n"
     ]
    },
    {
     "name": "stdout",
     "output_type": "stream",
     "text": [
      "--> best val loss updated: 0.68337\n",
      "[Train] loss=0.68326, acc=55.64 | [Val] loss=0.68337, acc=55.66  (no_improve_count=0) | time: 115s\n",
      "--------------------------------------------------\n",
      "[Epoch 15/1000] LR=1e-05\n"
     ]
    },
    {
     "name": "stderr",
     "output_type": "stream",
     "text": [
      "100%|██████████████████████████████████████████████████████████████████████████████| 8600/8600 [01:34<00:00, 91.08it/s]\n",
      "100%|█████████████████████████████████████████████████████████████████████████████| 3686/3686 [00:21<00:00, 170.90it/s]\n"
     ]
    },
    {
     "name": "stdout",
     "output_type": "stream",
     "text": [
      "--> best val loss updated: 0.68329\n",
      "[Train] loss=0.68312, acc=55.71 | [Val] loss=0.68329, acc=55.71  (no_improve_count=0) | time: 116s\n",
      "--------------------------------------------------\n",
      "[Epoch 16/1000] LR=1e-05\n"
     ]
    },
    {
     "name": "stderr",
     "output_type": "stream",
     "text": [
      "100%|██████████████████████████████████████████████████████████████████████████████| 8600/8600 [01:35<00:00, 90.19it/s]\n",
      "100%|█████████████████████████████████████████████████████████████████████████████| 3686/3686 [00:22<00:00, 163.13it/s]\n"
     ]
    },
    {
     "name": "stdout",
     "output_type": "stream",
     "text": [
      "[Train] loss=0.68280, acc=55.75 | [Val] loss=0.68383, acc=55.56  (no_improve_count=1) | time: 118s\n",
      "--------------------------------------------------\n",
      "[Epoch 17/1000] LR=1e-05\n"
     ]
    },
    {
     "name": "stderr",
     "output_type": "stream",
     "text": [
      "100%|██████████████████████████████████████████████████████████████████████████████| 8600/8600 [01:34<00:00, 91.46it/s]\n",
      "100%|█████████████████████████████████████████████████████████████████████████████| 3686/3686 [00:22<00:00, 166.23it/s]\n"
     ]
    },
    {
     "name": "stdout",
     "output_type": "stream",
     "text": [
      "[Train] loss=0.68273, acc=55.79 | [Val] loss=0.68331, acc=55.74  (no_improve_count=2) | time: 116s\n",
      "--------------------------------------------------\n",
      "[Epoch 18/1000] LR=1e-05\n"
     ]
    },
    {
     "name": "stderr",
     "output_type": "stream",
     "text": [
      "100%|██████████████████████████████████████████████████████████████████████████████| 8600/8600 [01:35<00:00, 90.52it/s]\n",
      "100%|█████████████████████████████████████████████████████████████████████████████| 3686/3686 [00:20<00:00, 176.02it/s]\n"
     ]
    },
    {
     "name": "stdout",
     "output_type": "stream",
     "text": [
      "--> best val loss updated: 0.68309\n",
      "[Train] loss=0.68254, acc=55.84 | [Val] loss=0.68309, acc=55.78  (no_improve_count=0) | time: 116s\n",
      "--------------------------------------------------\n",
      "[Epoch 19/1000] LR=1e-05\n"
     ]
    },
    {
     "name": "stderr",
     "output_type": "stream",
     "text": [
      "100%|██████████████████████████████████████████████████████████████████████████████| 8600/8600 [01:35<00:00, 90.11it/s]\n",
      "100%|█████████████████████████████████████████████████████████████████████████████| 3686/3686 [00:21<00:00, 172.95it/s]\n"
     ]
    },
    {
     "name": "stdout",
     "output_type": "stream",
     "text": [
      "[Train] loss=0.68241, acc=55.86 | [Val] loss=0.68321, acc=55.78  (no_improve_count=1) | time: 117s\n",
      "--------------------------------------------------\n",
      "[Epoch 20/1000] LR=1e-05\n"
     ]
    },
    {
     "name": "stderr",
     "output_type": "stream",
     "text": [
      "100%|██████████████████████████████████████████████████████████████████████████████| 8600/8600 [01:33<00:00, 91.79it/s]\n",
      "100%|█████████████████████████████████████████████████████████████████████████████| 3686/3686 [00:21<00:00, 168.06it/s]\n"
     ]
    },
    {
     "name": "stdout",
     "output_type": "stream",
     "text": [
      "[Train] loss=0.68220, acc=55.96 | [Val] loss=0.68323, acc=55.73  (no_improve_count=2) | time: 116s\n",
      "--------------------------------------------------\n",
      "[Epoch 21/1000] LR=1e-05\n"
     ]
    },
    {
     "name": "stderr",
     "output_type": "stream",
     "text": [
      "100%|██████████████████████████████████████████████████████████████████████████████| 8600/8600 [01:34<00:00, 90.95it/s]\n",
      "100%|█████████████████████████████████████████████████████████████████████████████| 3686/3686 [00:21<00:00, 172.36it/s]\n"
     ]
    },
    {
     "name": "stdout",
     "output_type": "stream",
     "text": [
      "[Train] loss=0.68192, acc=56.00 | [Val] loss=0.68333, acc=55.71  (no_improve_count=3) | time: 116s\n",
      "--------------------------------------------------\n",
      "Early stopping triggered.\n",
      "[LOAD OK] C:/Users/flydc/jupyter_project/pjt1_deep_learning/hd5_image/KR_ExPost_return_5_20250527.hd5\n",
      "[LOAD OK] C:/Users/flydc/jupyter_project/pjt1_deep_learning/hd5_image/KR_mktcap_20250527.hd5\n"
     ]
    },
    {
     "name": "stderr",
     "output_type": "stream",
     "text": [
      "시가총액 하위 0% 종목 제거 리스트: 100%|█████████████████████████████████| 1257264/1257264 [00:05<00:00, 224905.96it/s]\n",
      "### Data Loading ###: 100%|█████████████████████████████████████████████████████████████| 2/2 [04:17<00:00, 128.60s/it]\n",
      "100%|███████████████████████████████████████████████████████████| 4567/4567 [01:08<00:00, 66.51it/s, running_loss=0.69]\n"
     ]
    },
    {
     "name": "stdout",
     "output_type": "stream",
     "text": [
      "==============================\n",
      "[2] Accuracy  : 53.99%\n",
      "[2] Precision : 51.52%\n",
      "[2] Recall    : 22.38%\n",
      "[2] F1 Score  : 31.20%\n",
      "\n",
      "\n",
      "====== 평균 성능 ======\n",
      "Mean Accuracy  : 21.62%\n",
      "Mean Precision : 20.64%\n",
      "Mean Recall    : 9.28%\n",
      "Mean F1 Score  : 12.80%\n"
     ]
    }
   ],
   "source": [
    "if __name__ == \"__main__\":\n",
    "    # [Step1] 기본 설정\n",
    "    DEVICE = \"cuda\" if torch.cuda.is_available() else \"cpu\"\n",
    "    print(f\"[DEVICE] {DEVICE}\")\n",
    "\n",
    "    # [Step2] 하이퍼파라미터\n",
    "    TRAIN_RATIO = 0.7\n",
    "    BATCH_SIZE = 128\n",
    "\n",
    "    LR_pow = 5\n",
    "    LR = 1 / (10 ** LR_pow)  # = 1e-5\n",
    "\n",
    "    EPOCHS = 1000            # Max_EPOCH\n",
    "    N_EPOCH_ES = 3           # MaxTry\n",
    "\n",
    "    DR = 50\n",
    "    dr_rate = DR / 100       # 모델 생성 시 적용됨\n",
    "\n",
    "    \"\"\"\n",
    "    # [Step3] 날짜 설정\n",
    "    learn_DATE = pd.to_datetime('2022-12-31')\n",
    "    test_DATE = pd.to_datetime('2023-12-31')\n",
    "    stt_DATE = learn_DATE - pd.DateOffset(years=1)  # 최근 1년만 사용\n",
    "    \"\"\"\n",
    "     #전체 데이터 학습 시 사용\n",
    "    learn_DATE = pd.to_datetime('2023-12-31')\n",
    "    test_DATE = pd.to_datetime('2025-04-30')\n",
    "    stt_DATE = pd.to_datetime('2022-01-01')\n",
    "    \n",
    "\n",
    "    \n",
    "    # [Step4] 경로 설정\n",
    "    image_path = \"C:/Users/flydc/jupyter_project/pjt1_deep_learning/h5_image\"\n",
    "    DB_path = \"C:/Users/flydc/jupyter_project/pjt1_deep_learning/hd5_image\"\n",
    "    data_date = \"20250527\"\n",
    "    cap_criterion = 0.0\n",
    "\n",
    "    # [Step5] 이미지 변환\n",
    "    transform = transforms.ToTensor()\n",
    "\n",
    "    # [Step6] 학습용 데이터셋 로딩\n",
    "    dataset = CustomDataset_all(\n",
    "        image_data_path=image_path,\n",
    "        DB_path=DB_path,\n",
    "        data_source='FnGuide',\n",
    "        train=True,\n",
    "        data_date=data_date,\n",
    "        F_day_type=5,\n",
    "        T_day_type=5,\n",
    "        Pred_Hrz=5,\n",
    "        until_date=learn_DATE,\n",
    "        stt_date=stt_DATE,\n",
    "        cap_criterion=cap_criterion,\n",
    "        transform=transform,\n",
    "        country=\"KR\"\n",
    "    )\n",
    "\n",
    "    # [Step7] 반복 학습 (5회 수행)\n",
    "    from sklearn.model_selection import StratifiedShuffleSplit\n",
    "    from torch.utils.data import Subset, DataLoader\n",
    "\n",
    "    ALL_RESULTS = []\n",
    "    for i in range(1, 3):\n",
    "        splitter = StratifiedShuffleSplit(n_splits=1, test_size=(1 - TRAIN_RATIO), random_state=i*42)\n",
    "        train_idx, val_idx = next(splitter.split(range(len(dataset)), dataset.labels))\n",
    "\n",
    "        train_loader = DataLoader(Subset(dataset, train_idx), batch_size=BATCH_SIZE, shuffle=True)\n",
    "        val_loader = DataLoader(Subset(dataset, val_idx), batch_size=BATCH_SIZE, shuffle=False)\n",
    "\n",
    "        model = nn.DataParallel(SENet_CNN_5day(dr_rate=0.5, stt_chnl=1)).to(DEVICE)\n",
    "        optimizer = optim.Adam(model.parameters(), lr=LR)\n",
    "        criterion = nn.CrossEntropyLoss()\n",
    "\n",
    "        save_model_path = f\"./baseline_model_{i}.pt\"\n",
    "        save_history_path = f\"./baseline_history_{i}.pt\"\n",
    "\n",
    "        print(f\"\\n=========== [Iteration {i}] ===========\")\n",
    "        train_acc, val_acc, train_epochs = Train_Nepoch_ES_AMP(\n",
    "            model, train_loader, val_loader, criterion, DEVICE, optimizer,\n",
    "            EPOCHS, BATCH_SIZE, TRAIN_RATIO, save_model_path, save_history_path, N_EPOCH_ES\n",
    "        )\n",
    "\n",
    "        # 테스트셋 로딩\n",
    "        test_dataset = CustomDataset_all(\n",
    "            image_data_path=image_path,\n",
    "            DB_path=DB_path,\n",
    "            data_source='FnGuide',\n",
    "            train=False,\n",
    "            data_date=data_date,\n",
    "            F_day_type=5,\n",
    "            T_day_type=5,\n",
    "            Pred_Hrz=5,\n",
    "            until_date=test_DATE,\n",
    "            stt_date=learn_DATE + pd.DateOffset(days=1),\n",
    "            cap_criterion=cap_criterion,\n",
    "            transform=transform,\n",
    "            country=\"KR\"\n",
    "        )\n",
    "        test_loader = DataLoader(test_dataset, batch_size=256, shuffle=False)\n",
    "\n",
    "        # 모델 평가\n",
    "        model.load_state_dict(torch.load(save_model_path))\n",
    "        avg_loss, preds_tmp, codes, dates, returns, targets = eval_loop(test_loader, model, criterion, DEVICE)\n",
    "\n",
    "        pred_probs = torch.nn.Softmax(dim=1)(preds_tmp)\n",
    "        preds = pred_probs.argmax(dim=1).cpu().numpy()\n",
    "\n",
    "        acc = accuracy_score(targets, preds)\n",
    "        prec = precision_score(targets, preds)\n",
    "        rec = recall_score(targets, preds)\n",
    "        f1 = f1_score(targets, preds)\n",
    "\n",
    "        print(\"=\" * 30)\n",
    "        print(f\"[{i}] Accuracy  : {acc*100:.2f}%\")\n",
    "        print(f\"[{i}] Precision : {prec*100:.2f}%\")\n",
    "        print(f\"[{i}] Recall    : {rec*100:.2f}%\")\n",
    "        print(f\"[{i}] F1 Score  : {f1*100:.2f}%\")\n",
    "\n",
    "        ALL_RESULTS.append({\n",
    "            \"acc\": acc, \"prec\": prec, \"rec\": rec, \"f1\": f1\n",
    "        })\n",
    "\n",
    "    # [마무리] 평균 성능 출력\n",
    "    print(\"\\n\\n====== 평균 성능 ======\")\n",
    "    mean_acc = sum([x['acc'] for x in ALL_RESULTS]) / 5\n",
    "    mean_prec = sum([x['prec'] for x in ALL_RESULTS]) / 5\n",
    "    mean_rec = sum([x['rec'] for x in ALL_RESULTS]) / 5\n",
    "    mean_f1 = sum([x['f1'] for x in ALL_RESULTS]) / 5\n",
    "\n",
    "    print(f\"Mean Accuracy  : {mean_acc*100:.2f}%\")\n",
    "    print(f\"Mean Precision : {mean_prec*100:.2f}%\")\n",
    "    print(f\"Mean Recall    : {mean_rec*100:.2f}%\")\n",
    "    print(f\"Mean F1 Score  : {mean_f1*100:.2f}%\")\n"
   ]
  },
  {
   "cell_type": "code",
   "execution_count": 116,
   "id": "db5442e7-50c8-4891-8b71-4c6690b691ab",
   "metadata": {},
   "outputs": [
    {
     "name": "stdout",
     "output_type": "stream",
     "text": [
      "[CSV 저장 완료] → senet_eval_results.csv\n",
      "[Pickle 저장 완료] → senet_eval_results.pkl\n"
     ]
    }
   ],
   "source": [
    "import pandas as pd\n",
    "import pickle\n",
    "\n",
    "# DataFrame으로 변환\n",
    "results_df = pd.DataFrame(ALL_RESULTS)\n",
    "results_df.index = [f\"Iteration {i+1}\" for i in range(len(results_df))]\n",
    "\n",
    "# 평균 행 추가\n",
    "mean_row = results_df.mean().to_frame().T\n",
    "mean_row.index = ['Mean']\n",
    "results_df = pd.concat([results_df, mean_row])\n",
    "\"\"\"\n",
    "# CSV 저장\n",
    "results_df.to_csv(\"senet_eval_results.csv\", index=True)\n",
    "print(\"[CSV 저장 완료] → senet_eval_results.csv\")\n",
    "\n",
    "# Pickle 저장\n",
    "with open(\"senet_eval_results.pkl\", \"wb\") as f:\n",
    "    pickle.dump(ALL_RESULTS, f)\n",
    "print(\"[Pickle 저장 완료] → senet_eval_results.pkl\")"
   ]
  },
  {
   "cell_type": "code",
   "execution_count": 118,
   "id": "e0d59679-e918-42bc-92dc-589927b991e2",
   "metadata": {},
   "outputs": [
    {
     "data": {
      "text/html": [
       "<div>\n",
       "<style scoped>\n",
       "    .dataframe tbody tr th:only-of-type {\n",
       "        vertical-align: middle;\n",
       "    }\n",
       "\n",
       "    .dataframe tbody tr th {\n",
       "        vertical-align: top;\n",
       "    }\n",
       "\n",
       "    .dataframe thead th {\n",
       "        text-align: right;\n",
       "    }\n",
       "</style>\n",
       "<table border=\"1\" class=\"dataframe\">\n",
       "  <thead>\n",
       "    <tr style=\"text-align: right;\">\n",
       "      <th></th>\n",
       "      <th>acc</th>\n",
       "      <th>prec</th>\n",
       "      <th>rec</th>\n",
       "      <th>f1</th>\n",
       "    </tr>\n",
       "  </thead>\n",
       "  <tbody>\n",
       "    <tr>\n",
       "      <th>Iteration 1</th>\n",
       "      <td>0.540952</td>\n",
       "      <td>0.516614</td>\n",
       "      <td>0.240426</td>\n",
       "      <td>0.328140</td>\n",
       "    </tr>\n",
       "    <tr>\n",
       "      <th>Iteration 2</th>\n",
       "      <td>0.539914</td>\n",
       "      <td>0.515240</td>\n",
       "      <td>0.223760</td>\n",
       "      <td>0.312017</td>\n",
       "    </tr>\n",
       "    <tr>\n",
       "      <th>Mean</th>\n",
       "      <td>0.540433</td>\n",
       "      <td>0.515927</td>\n",
       "      <td>0.232093</td>\n",
       "      <td>0.320078</td>\n",
       "    </tr>\n",
       "  </tbody>\n",
       "</table>\n",
       "</div>"
      ],
      "text/plain": [
       "                  acc      prec       rec        f1\n",
       "Iteration 1  0.540952  0.516614  0.240426  0.328140\n",
       "Iteration 2  0.539914  0.515240  0.223760  0.312017\n",
       "Mean         0.540433  0.515927  0.232093  0.320078"
      ]
     },
     "execution_count": 118,
     "metadata": {},
     "output_type": "execute_result"
    }
   ],
   "source": [
    "results_df"
   ]
  },
  {
   "cell_type": "code",
   "execution_count": null,
   "id": "ab225b8f-3926-4ee2-ae87-ababef188110",
   "metadata": {},
   "outputs": [],
   "source": []
  },
  {
   "cell_type": "code",
   "execution_count": null,
   "id": "bce6771a-ca20-4355-aae6-23b5dfdd62fb",
   "metadata": {},
   "outputs": [],
   "source": []
  },
  {
   "cell_type": "code",
   "execution_count": null,
   "id": "53221902-367a-4f39-acf3-62a7da81a67a",
   "metadata": {},
   "outputs": [],
   "source": []
  },
  {
   "cell_type": "code",
   "execution_count": 109,
   "id": "5f18b32c-d4b2-4047-a26f-6ea46dfa9d44",
   "metadata": {},
   "outputs": [],
   "source": [
    "\"\"\"results = pd.DataFrame(ALL_RESULTS)\n",
    "results.index = [f\"Iteration {i+1}\" for i in range(len(results))]\n",
    "results = results.iloc[:5]\n",
    "\n",
    "mean_row = results.mean().to_frame().T\n",
    "mean_row.index = ['Mean']\n",
    "results_final = pd.concat([mean_row,results])\n",
    "\"\"\""
   ]
  },
  {
   "cell_type": "code",
   "execution_count": null,
   "id": "936c6266-67b1-4e41-8201-14aa0ab669d0",
   "metadata": {},
   "outputs": [],
   "source": []
  },
  {
   "cell_type": "code",
   "execution_count": null,
   "id": "84feec4e-48cc-41ef-b5cc-6e29eb413431",
   "metadata": {},
   "outputs": [],
   "source": []
  },
  {
   "cell_type": "code",
   "execution_count": 31,
   "id": "ede8f73c-7f6f-4142-8636-1b70da18b763",
   "metadata": {},
   "outputs": [
    {
     "name": "stdout",
     "output_type": "stream",
     "text": [
      "[LOAD OK] C:/Users/flydc/jupyter_project/pjt1_deep_learning/hd5_image/KR_ExPost_return_5_20250527.hd5\n",
      "[LOAD OK] C:/Users/flydc/jupyter_project/pjt1_deep_learning/hd5_image/KR_mktcap_20250527.hd5\n"
     ]
    },
    {
     "name": "stderr",
     "output_type": "stream",
     "text": [
      "시가총액 하위 0% 종목 제거 리스트: 100%|███████████████████████████████████| 810660/810660 [00:03<00:00, 215149.44it/s]\n",
      "### Data Loading ###: 100%|██████████████████████████████████████████████████████████████| 2/2 [02:49<00:00, 84.74s/it]\n"
     ]
    }
   ],
   "source": [
    "\n",
    "\"\"\"\n",
    "# [Step5] 데이터셋 로드\n",
    "transform = transforms.ToTensor()\n",
    "dataset = CustomDataset_all(\n",
    "    image_data_path=image_path,\n",
    "    DB_path=DB_path,\n",
    "    data_source='FnGuide',\n",
    "    train=True,\n",
    "    data_date=data_date,\n",
    "    F_day_type=5,\n",
    "    T_day_type=5,\n",
    "    Pred_Hrz=5,\n",
    "    until_date=learn_DATE,\n",
    "    stt_date=stt_DATE,\n",
    "    cap_criterion=cap_criterion,\n",
    "    transform=transform,\n",
    "    country = \"KR\"\n",
    ")\n",
    "\n",
    "# [Step6] 학습/검증 데이터 분할\n",
    "splitter = StratifiedShuffleSplit(n_splits=1, test_size=(1 - TRAIN_RATIO))\n",
    "train_idx, val_idx = next(splitter.split(list(range(len(dataset))), dataset.labels))\n",
    "train_DS = Subset(dataset, train_idx)\n",
    "val_DS = Subset(dataset, val_idx)\n",
    "train_DL = DataLoader(train_DS, batch_size=BATCH_SIZE, shuffle=True)\n",
    "val_DL = DataLoader(val_DS, batch_size=BATCH_SIZE, shuffle=True)\n",
    "\"\"\""
   ]
  },
  {
   "cell_type": "code",
   "execution_count": 34,
   "id": "6bb9af2a-3df5-42ad-80bd-c4ea8167804a",
   "metadata": {},
   "outputs": [
    {
     "name": "stdout",
     "output_type": "stream",
     "text": [
      "[DEVICE] cuda\n",
      "[LOAD OK] C:/Users/flydc/jupyter_project/pjt1_deep_learning/hd5_image/KR_ExPost_return_5_20250527.hd5\n",
      "[LOAD OK] C:/Users/flydc/jupyter_project/pjt1_deep_learning/hd5_image/KR_mktcap_20250527.hd5\n"
     ]
    },
    {
     "name": "stderr",
     "output_type": "stream",
     "text": [
      "시가총액 하위 0% 종목 제거 리스트: 100%|███████████████████████████████████| 810660/810660 [00:03<00:00, 227535.43it/s]\n",
      "### Data Loading ###: 100%|██████████████████████████████████████████████████████████████| 2/2 [02:54<00:00, 87.21s/it]\n"
     ]
    },
    {
     "name": "stdout",
     "output_type": "stream",
     "text": [
      "Initial Validation Loss: 1e+20\n",
      "[Epoch 1/100] LR=1e-05\n"
     ]
    },
    {
     "name": "stderr",
     "output_type": "stream",
     "text": [
      "100%|██████████████████████████████████████████████████████████████████████████████| 4135/4135 [00:45<00:00, 90.43it/s]\n",
      "100%|█████████████████████████████████████████████████████████████████████████████| 1772/1772 [00:09<00:00, 185.15it/s]\n"
     ]
    },
    {
     "name": "stdout",
     "output_type": "stream",
     "text": [
      "--> best val loss updated: 0.68232\n",
      "[Train] loss=0.69707, acc=53.98 | [Val] loss=0.68232, acc=56.03  (no_improve_count=0) | time: 55s\n",
      "--------------------------------------------------\n",
      "[Epoch 2/100] LR=1e-05\n"
     ]
    },
    {
     "name": "stderr",
     "output_type": "stream",
     "text": [
      "100%|██████████████████████████████████████████████████████████████████████████████| 4135/4135 [00:47<00:00, 87.55it/s]\n",
      "100%|█████████████████████████████████████████████████████████████████████████████| 1772/1772 [00:10<00:00, 175.88it/s]\n"
     ]
    },
    {
     "name": "stdout",
     "output_type": "stream",
     "text": [
      "--> best val loss updated: 0.68144\n",
      "[Train] loss=0.68946, acc=54.90 | [Val] loss=0.68144, acc=56.43  (no_improve_count=0) | time: 57s\n",
      "--------------------------------------------------\n",
      "[Epoch 3/100] LR=1e-05\n"
     ]
    },
    {
     "name": "stderr",
     "output_type": "stream",
     "text": [
      "100%|██████████████████████████████████████████████████████████████████████████████| 4135/4135 [00:48<00:00, 85.88it/s]\n",
      "100%|█████████████████████████████████████████████████████████████████████████████| 1772/1772 [00:09<00:00, 185.71it/s]\n"
     ]
    },
    {
     "name": "stdout",
     "output_type": "stream",
     "text": [
      "--> best val loss updated: 0.68021\n",
      "[Train] loss=0.68583, acc=55.54 | [Val] loss=0.68021, acc=56.55  (no_improve_count=0) | time: 58s\n",
      "--------------------------------------------------\n",
      "[Epoch 4/100] LR=1e-05\n"
     ]
    },
    {
     "name": "stderr",
     "output_type": "stream",
     "text": [
      "100%|██████████████████████████████████████████████████████████████████████████████| 4135/4135 [00:47<00:00, 86.30it/s]\n",
      "100%|█████████████████████████████████████████████████████████████████████████████| 1772/1772 [00:09<00:00, 179.34it/s]\n"
     ]
    },
    {
     "name": "stdout",
     "output_type": "stream",
     "text": [
      "[Train] loss=0.68367, acc=55.91 | [Val] loss=0.68063, acc=56.49  (no_improve_count=1) | time: 58s\n",
      "--------------------------------------------------\n",
      "[Epoch 5/100] LR=1e-05\n"
     ]
    },
    {
     "name": "stderr",
     "output_type": "stream",
     "text": [
      "100%|██████████████████████████████████████████████████████████████████████████████| 4135/4135 [00:48<00:00, 85.53it/s]\n",
      "100%|█████████████████████████████████████████████████████████████████████████████| 1772/1772 [00:09<00:00, 179.31it/s]\n"
     ]
    },
    {
     "name": "stdout",
     "output_type": "stream",
     "text": [
      "--> best val loss updated: 0.6802\n",
      "[Train] loss=0.68210, acc=56.25 | [Val] loss=0.68020, acc=56.57  (no_improve_count=0) | time: 58s\n",
      "--------------------------------------------------\n",
      "[Epoch 6/100] LR=1e-05\n"
     ]
    },
    {
     "name": "stderr",
     "output_type": "stream",
     "text": [
      "100%|██████████████████████████████████████████████████████████████████████████████| 4135/4135 [00:49<00:00, 84.34it/s]\n",
      "100%|█████████████████████████████████████████████████████████████████████████████| 1772/1772 [00:09<00:00, 186.80it/s]\n"
     ]
    },
    {
     "name": "stdout",
     "output_type": "stream",
     "text": [
      "--> best val loss updated: 0.67905\n",
      "[Train] loss=0.68120, acc=56.40 | [Val] loss=0.67905, acc=56.88  (no_improve_count=0) | time: 59s\n",
      "--------------------------------------------------\n",
      "[Epoch 7/100] LR=1e-05\n"
     ]
    },
    {
     "name": "stderr",
     "output_type": "stream",
     "text": [
      "100%|██████████████████████████████████████████████████████████████████████████████| 4135/4135 [00:44<00:00, 93.77it/s]\n",
      "100%|█████████████████████████████████████████████████████████████████████████████| 1772/1772 [00:09<00:00, 190.50it/s]\n"
     ]
    },
    {
     "name": "stdout",
     "output_type": "stream",
     "text": [
      "--> best val loss updated: 0.67891\n",
      "[Train] loss=0.68009, acc=56.72 | [Val] loss=0.67891, acc=56.94  (no_improve_count=0) | time: 53s\n",
      "--------------------------------------------------\n",
      "[Epoch 8/100] LR=1e-05\n"
     ]
    },
    {
     "name": "stderr",
     "output_type": "stream",
     "text": [
      "100%|██████████████████████████████████████████████████████████████████████████████| 4135/4135 [00:45<00:00, 90.77it/s]\n",
      "100%|█████████████████████████████████████████████████████████████████████████████| 1772/1772 [00:10<00:00, 170.94it/s]\n"
     ]
    },
    {
     "name": "stdout",
     "output_type": "stream",
     "text": [
      "[Train] loss=0.67947, acc=56.75 | [Val] loss=0.67891, acc=56.96  (no_improve_count=1) | time: 56s\n",
      "--------------------------------------------------\n",
      "[Epoch 9/100] LR=1e-05\n"
     ]
    },
    {
     "name": "stderr",
     "output_type": "stream",
     "text": [
      "100%|██████████████████████████████████████████████████████████████████████████████| 4135/4135 [00:50<00:00, 81.63it/s]\n",
      "100%|█████████████████████████████████████████████████████████████████████████████| 1772/1772 [00:09<00:00, 184.42it/s]\n"
     ]
    },
    {
     "name": "stdout",
     "output_type": "stream",
     "text": [
      "--> best val loss updated: 0.67838\n",
      "[Train] loss=0.67947, acc=56.87 | [Val] loss=0.67838, acc=57.10  (no_improve_count=0) | time: 60s\n",
      "--------------------------------------------------\n",
      "[Epoch 10/100] LR=1e-05\n"
     ]
    },
    {
     "name": "stderr",
     "output_type": "stream",
     "text": [
      "100%|██████████████████████████████████████████████████████████████████████████████| 4135/4135 [00:45<00:00, 90.60it/s]\n",
      "100%|█████████████████████████████████████████████████████████████████████████████| 1772/1772 [00:10<00:00, 167.82it/s]\n"
     ]
    },
    {
     "name": "stdout",
     "output_type": "stream",
     "text": [
      "[Train] loss=0.67875, acc=56.91 | [Val] loss=0.67953, acc=56.74  (no_improve_count=1) | time: 56s\n",
      "--------------------------------------------------\n",
      "[Epoch 11/100] LR=1e-05\n"
     ]
    },
    {
     "name": "stderr",
     "output_type": "stream",
     "text": [
      "100%|██████████████████████████████████████████████████████████████████████████████| 4135/4135 [00:44<00:00, 92.18it/s]\n",
      "100%|█████████████████████████████████████████████████████████████████████████████| 1772/1772 [00:09<00:00, 183.98it/s]\n"
     ]
    },
    {
     "name": "stdout",
     "output_type": "stream",
     "text": [
      "--> best val loss updated: 0.67802\n",
      "[Train] loss=0.67815, acc=57.04 | [Val] loss=0.67802, acc=57.17  (no_improve_count=0) | time: 54s\n",
      "--------------------------------------------------\n",
      "[Epoch 12/100] LR=1e-05\n"
     ]
    },
    {
     "name": "stderr",
     "output_type": "stream",
     "text": [
      "100%|██████████████████████████████████████████████████████████████████████████████| 4135/4135 [00:45<00:00, 91.69it/s]\n",
      "100%|█████████████████████████████████████████████████████████████████████████████| 1772/1772 [00:09<00:00, 188.96it/s]\n"
     ]
    },
    {
     "name": "stdout",
     "output_type": "stream",
     "text": [
      "--> best val loss updated: 0.67801\n",
      "[Train] loss=0.67778, acc=57.08 | [Val] loss=0.67801, acc=57.13  (no_improve_count=0) | time: 54s\n",
      "--------------------------------------------------\n",
      "[Epoch 13/100] LR=1e-05\n"
     ]
    },
    {
     "name": "stderr",
     "output_type": "stream",
     "text": [
      "100%|██████████████████████████████████████████████████████████████████████████████| 4135/4135 [00:45<00:00, 91.37it/s]\n",
      "100%|█████████████████████████████████████████████████████████████████████████████| 1772/1772 [00:09<00:00, 192.07it/s]\n"
     ]
    },
    {
     "name": "stdout",
     "output_type": "stream",
     "text": [
      "--> best val loss updated: 0.678\n",
      "[Train] loss=0.67747, acc=57.23 | [Val] loss=0.67800, acc=57.17  (no_improve_count=0) | time: 54s\n",
      "--------------------------------------------------\n",
      "[Epoch 14/100] LR=1e-05\n"
     ]
    },
    {
     "name": "stderr",
     "output_type": "stream",
     "text": [
      "100%|██████████████████████████████████████████████████████████████████████████████| 4135/4135 [00:45<00:00, 90.65it/s]\n",
      "100%|█████████████████████████████████████████████████████████████████████████████| 1772/1772 [00:09<00:00, 186.57it/s]\n"
     ]
    },
    {
     "name": "stdout",
     "output_type": "stream",
     "text": [
      "[Train] loss=0.67717, acc=57.31 | [Val] loss=0.68111, acc=56.15  (no_improve_count=1) | time: 55s\n",
      "--------------------------------------------------\n",
      "[Epoch 15/100] LR=1e-05\n"
     ]
    },
    {
     "name": "stderr",
     "output_type": "stream",
     "text": [
      "100%|██████████████████████████████████████████████████████████████████████████████| 4135/4135 [00:45<00:00, 90.85it/s]\n",
      "100%|█████████████████████████████████████████████████████████████████████████████| 1772/1772 [00:09<00:00, 180.43it/s]\n"
     ]
    },
    {
     "name": "stdout",
     "output_type": "stream",
     "text": [
      "[Train] loss=0.67681, acc=57.26 | [Val] loss=0.67828, acc=57.14  (no_improve_count=2) | time: 55s\n",
      "--------------------------------------------------\n",
      "[Epoch 16/100] LR=1e-05\n"
     ]
    },
    {
     "name": "stderr",
     "output_type": "stream",
     "text": [
      "100%|██████████████████████████████████████████████████████████████████████████████| 4135/4135 [00:44<00:00, 92.58it/s]\n",
      "100%|█████████████████████████████████████████████████████████████████████████████| 1772/1772 [00:09<00:00, 187.96it/s]\n"
     ]
    },
    {
     "name": "stdout",
     "output_type": "stream",
     "text": [
      "--> best val loss updated: 0.6779\n",
      "[Train] loss=0.67641, acc=57.34 | [Val] loss=0.67790, acc=57.15  (no_improve_count=0) | time: 54s\n",
      "--------------------------------------------------\n",
      "[Epoch 17/100] LR=1e-05\n"
     ]
    },
    {
     "name": "stderr",
     "output_type": "stream",
     "text": [
      "100%|██████████████████████████████████████████████████████████████████████████████| 4135/4135 [00:44<00:00, 92.12it/s]\n",
      "100%|█████████████████████████████████████████████████████████████████████████████| 1772/1772 [00:09<00:00, 180.00it/s]\n"
     ]
    },
    {
     "name": "stdout",
     "output_type": "stream",
     "text": [
      "--> best val loss updated: 0.67731\n",
      "[Train] loss=0.67639, acc=57.45 | [Val] loss=0.67731, acc=57.29  (no_improve_count=0) | time: 55s\n",
      "--------------------------------------------------\n",
      "[Epoch 18/100] LR=1e-05\n"
     ]
    },
    {
     "name": "stderr",
     "output_type": "stream",
     "text": [
      "100%|██████████████████████████████████████████████████████████████████████████████| 4135/4135 [00:48<00:00, 84.75it/s]\n",
      "100%|█████████████████████████████████████████████████████████████████████████████| 1772/1772 [00:10<00:00, 175.16it/s]\n"
     ]
    },
    {
     "name": "stdout",
     "output_type": "stream",
     "text": [
      "[Train] loss=0.67613, acc=57.48 | [Val] loss=0.67974, acc=56.61  (no_improve_count=1) | time: 59s\n",
      "--------------------------------------------------\n",
      "[Epoch 19/100] LR=1e-05\n"
     ]
    },
    {
     "name": "stderr",
     "output_type": "stream",
     "text": [
      "100%|██████████████████████████████████████████████████████████████████████████████| 4135/4135 [00:44<00:00, 92.08it/s]\n",
      "100%|█████████████████████████████████████████████████████████████████████████████| 1772/1772 [00:09<00:00, 186.10it/s]\n"
     ]
    },
    {
     "name": "stdout",
     "output_type": "stream",
     "text": [
      "--> best val loss updated: 0.67715\n",
      "[Train] loss=0.67575, acc=57.57 | [Val] loss=0.67715, acc=57.41  (no_improve_count=0) | time: 54s\n",
      "--------------------------------------------------\n",
      "[Epoch 20/100] LR=1e-05\n"
     ]
    },
    {
     "name": "stderr",
     "output_type": "stream",
     "text": [
      "100%|██████████████████████████████████████████████████████████████████████████████| 4135/4135 [00:43<00:00, 94.74it/s]\n",
      "100%|█████████████████████████████████████████████████████████████████████████████| 1772/1772 [00:09<00:00, 180.33it/s]\n"
     ]
    },
    {
     "name": "stdout",
     "output_type": "stream",
     "text": [
      "[Train] loss=0.67562, acc=57.57 | [Val] loss=0.67773, acc=57.19  (no_improve_count=1) | time: 53s\n",
      "--------------------------------------------------\n",
      "[Epoch 21/100] LR=1e-05\n"
     ]
    },
    {
     "name": "stderr",
     "output_type": "stream",
     "text": [
      "100%|██████████████████████████████████████████████████████████████████████████████| 4135/4135 [00:44<00:00, 93.44it/s]\n",
      "100%|█████████████████████████████████████████████████████████████████████████████| 1772/1772 [00:09<00:00, 183.06it/s]\n"
     ]
    },
    {
     "name": "stdout",
     "output_type": "stream",
     "text": [
      "--> best val loss updated: 0.67699\n",
      "[Train] loss=0.67534, acc=57.65 | [Val] loss=0.67699, acc=57.36  (no_improve_count=0) | time: 54s\n",
      "--------------------------------------------------\n",
      "[Epoch 22/100] LR=1e-05\n"
     ]
    },
    {
     "name": "stderr",
     "output_type": "stream",
     "text": [
      "100%|██████████████████████████████████████████████████████████████████████████████| 4135/4135 [00:45<00:00, 90.09it/s]\n",
      "100%|█████████████████████████████████████████████████████████████████████████████| 1772/1772 [00:10<00:00, 176.75it/s]\n"
     ]
    },
    {
     "name": "stdout",
     "output_type": "stream",
     "text": [
      "[Train] loss=0.67505, acc=57.77 | [Val] loss=0.67711, acc=57.34  (no_improve_count=1) | time: 56s\n",
      "--------------------------------------------------\n",
      "[Epoch 23/100] LR=1e-05\n"
     ]
    },
    {
     "name": "stderr",
     "output_type": "stream",
     "text": [
      "100%|██████████████████████████████████████████████████████████████████████████████| 4135/4135 [00:44<00:00, 92.02it/s]\n",
      "100%|█████████████████████████████████████████████████████████████████████████████| 1772/1772 [00:09<00:00, 181.28it/s]\n"
     ]
    },
    {
     "name": "stdout",
     "output_type": "stream",
     "text": [
      "--> best val loss updated: 0.67674\n",
      "[Train] loss=0.67490, acc=57.74 | [Val] loss=0.67674, acc=57.47  (no_improve_count=0) | time: 55s\n",
      "--------------------------------------------------\n",
      "[Epoch 24/100] LR=1e-05\n"
     ]
    },
    {
     "name": "stderr",
     "output_type": "stream",
     "text": [
      "100%|██████████████████████████████████████████████████████████████████████████████| 4135/4135 [00:44<00:00, 92.12it/s]\n",
      "100%|█████████████████████████████████████████████████████████████████████████████| 1772/1772 [00:09<00:00, 182.61it/s]\n"
     ]
    },
    {
     "name": "stdout",
     "output_type": "stream",
     "text": [
      "[Train] loss=0.67448, acc=57.82 | [Val] loss=0.67846, acc=56.91  (no_improve_count=1) | time: 55s\n",
      "--------------------------------------------------\n",
      "[Epoch 25/100] LR=1e-05\n"
     ]
    },
    {
     "name": "stderr",
     "output_type": "stream",
     "text": [
      "100%|██████████████████████████████████████████████████████████████████████████████| 4135/4135 [00:45<00:00, 90.81it/s]\n",
      "100%|█████████████████████████████████████████████████████████████████████████████| 1772/1772 [00:09<00:00, 185.20it/s]\n"
     ]
    },
    {
     "name": "stdout",
     "output_type": "stream",
     "text": [
      "--> best val loss updated: 0.67652\n",
      "[Train] loss=0.67439, acc=57.87 | [Val] loss=0.67652, acc=57.51  (no_improve_count=0) | time: 55s\n",
      "--------------------------------------------------\n",
      "[Epoch 26/100] LR=1e-05\n"
     ]
    },
    {
     "name": "stderr",
     "output_type": "stream",
     "text": [
      "100%|██████████████████████████████████████████████████████████████████████████████| 4135/4135 [00:45<00:00, 91.27it/s]\n",
      "100%|█████████████████████████████████████████████████████████████████████████████| 1772/1772 [00:09<00:00, 187.38it/s]\n"
     ]
    },
    {
     "name": "stdout",
     "output_type": "stream",
     "text": [
      "[Train] loss=0.67403, acc=57.89 | [Val] loss=0.67693, acc=57.44  (no_improve_count=1) | time: 55s\n",
      "--------------------------------------------------\n",
      "[Epoch 27/100] LR=1e-05\n"
     ]
    },
    {
     "name": "stderr",
     "output_type": "stream",
     "text": [
      "100%|██████████████████████████████████████████████████████████████████████████████| 4135/4135 [00:44<00:00, 93.45it/s]\n",
      "100%|█████████████████████████████████████████████████████████████████████████████| 1772/1772 [00:10<00:00, 171.26it/s]\n"
     ]
    },
    {
     "name": "stdout",
     "output_type": "stream",
     "text": [
      "[Train] loss=0.67386, acc=57.99 | [Val] loss=0.67675, acc=57.47  (no_improve_count=2) | time: 55s\n",
      "--------------------------------------------------\n",
      "[Epoch 28/100] LR=1e-05\n"
     ]
    },
    {
     "name": "stderr",
     "output_type": "stream",
     "text": [
      "100%|██████████████████████████████████████████████████████████████████████████████| 4135/4135 [00:44<00:00, 92.96it/s]\n",
      "100%|█████████████████████████████████████████████████████████████████████████████| 1772/1772 [00:09<00:00, 180.03it/s]\n"
     ]
    },
    {
     "name": "stdout",
     "output_type": "stream",
     "text": [
      "--> best val loss updated: 0.67642\n",
      "[Train] loss=0.67360, acc=57.96 | [Val] loss=0.67642, acc=57.52  (no_improve_count=0) | time: 54s\n",
      "--------------------------------------------------\n",
      "[Epoch 29/100] LR=1e-05\n"
     ]
    },
    {
     "name": "stderr",
     "output_type": "stream",
     "text": [
      "100%|██████████████████████████████████████████████████████████████████████████████| 4135/4135 [00:43<00:00, 94.37it/s]\n",
      "100%|█████████████████████████████████████████████████████████████████████████████| 1772/1772 [00:10<00:00, 174.24it/s]\n"
     ]
    },
    {
     "name": "stdout",
     "output_type": "stream",
     "text": [
      "[Train] loss=0.67342, acc=58.04 | [Val] loss=0.67696, acc=57.38  (no_improve_count=1) | time: 54s\n",
      "--------------------------------------------------\n",
      "[Epoch 30/100] LR=1e-05\n"
     ]
    },
    {
     "name": "stderr",
     "output_type": "stream",
     "text": [
      "100%|██████████████████████████████████████████████████████████████████████████████| 4135/4135 [00:44<00:00, 92.11it/s]\n",
      "100%|█████████████████████████████████████████████████████████████████████████████| 1772/1772 [00:10<00:00, 176.63it/s]\n"
     ]
    },
    {
     "name": "stdout",
     "output_type": "stream",
     "text": [
      "[Train] loss=0.67309, acc=58.06 | [Val] loss=0.67642, acc=57.59  (no_improve_count=2) | time: 55s\n",
      "--------------------------------------------------\n",
      "[Epoch 31/100] LR=1e-05\n"
     ]
    },
    {
     "name": "stderr",
     "output_type": "stream",
     "text": [
      "100%|██████████████████████████████████████████████████████████████████████████████| 4135/4135 [00:44<00:00, 93.18it/s]\n",
      "100%|█████████████████████████████████████████████████████████████████████████████| 1772/1772 [00:09<00:00, 182.41it/s]\n"
     ]
    },
    {
     "name": "stdout",
     "output_type": "stream",
     "text": [
      "[Train] loss=0.67283, acc=58.08 | [Val] loss=0.67742, acc=57.18  (no_improve_count=3) | time: 54s\n",
      "--------------------------------------------------\n",
      "Early stopping triggered.\n",
      "[LOAD OK] C:/Users/flydc/jupyter_project/pjt1_deep_learning/hd5_image/KR_ExPost_return_5_20250527.hd5\n",
      "[LOAD OK] C:/Users/flydc/jupyter_project/pjt1_deep_learning/hd5_image/KR_mktcap_20250527.hd5\n"
     ]
    },
    {
     "name": "stderr",
     "output_type": "stream",
     "text": [
      "시가총액 하위 0% 종목 제거 리스트: 100%|███████████████████████████████████| 881579/881579 [00:03<00:00, 229186.57it/s]\n",
      "### Data Loading ###: 100%|█████████████████████████████████████████████████████████████| 1/1 [02:58<00:00, 178.67s/it]\n",
      "100%|██████████████████████████████████████████████████████████| 3190/3190 [00:42<00:00, 74.76it/s, running_loss=0.699]\n"
     ]
    },
    {
     "name": "stdout",
     "output_type": "stream",
     "text": [
      "==============================\n",
      "Accuracy  : 53.06%\n",
      "Precision : 53.34%\n",
      "Recall    : 18.95%\n",
      "F1 Score  : 27.97%\n"
     ]
    }
   ],
   "source": [
    "\"\"\"\n",
    "# [Step1] 기본 설정\n",
    "DEVICE = \"cuda\" if torch.cuda.is_available() else \"cpu\"\n",
    "transform = transforms.ToTensor()\n",
    "print(f\"[DEVICE] {DEVICE}\")\n",
    "\n",
    "# [Step2] 하이퍼파라미터\n",
    "TRAIN_RATIO = 0.7\n",
    "BATCH_SIZE = 128\n",
    "LR = 1e-5\n",
    "EPOCHS = 100\n",
    "N_EPOCH_ES = 3\n",
    "\n",
    "# [Step3] 학습/테스트 날짜\n",
    "learn_DATE = pd.to_datetime('2022-12-31')\n",
    "test_DATE = pd.to_datetime('2023-12-31')\n",
    "stt_DATE = learn_DATE - pd.DateOffset(years=1)  # 1년치만 학습\n",
    "\n",
    "\"\"\" #전체 데이터 학습 시 사용\n",
    "learn_DATE = pd.to_datetime('2022-12-31')\n",
    "test_DATE = pd.to_datetime('2025-04-30')\n",
    "stt_DATE = pd.to_datetime('1999-01-01')\n",
    "\"\"\"\n",
    "\n",
    "# [Step4] 데이터셋 경로\n",
    "image_path = \"C:/Users/flydc/jupyter_project/pjt1_deep_learning/h5_image\"\n",
    "DB_path = \"C:/Users/flydc/jupyter_project/pjt1_deep_learning/hd5_image\"\n",
    "data_date = \"20250527\"\n",
    "cap_criterion = 0.0\n",
    "\n",
    "# [Step5] 학습용 데이터셋\n",
    "train_dataset = CustomDataset_all(\n",
    "    image_data_path=image_path,\n",
    "    DB_path=DB_path,\n",
    "    data_source='FnGuide',\n",
    "    train=True,\n",
    "    data_date=data_date,\n",
    "    F_day_type=5,\n",
    "    T_day_type=5,\n",
    "    Pred_Hrz=5,\n",
    "    until_date=learn_DATE,\n",
    "    stt_date=stt_DATE,\n",
    "    cap_criterion=cap_criterion,\n",
    "    transform=transform,\n",
    "    country=\"KR\"\n",
    ")\n",
    "\n",
    "# [Step6] Stratified 학습/검증 분리\n",
    "splitter = StratifiedShuffleSplit(n_splits=1, test_size=(1 - TRAIN_RATIO), random_state=42)\n",
    "train_idx, val_idx = next(splitter.split(range(len(train_dataset)), train_dataset.labels))\n",
    "train_loader = DataLoader(Subset(train_dataset, train_idx), batch_size=BATCH_SIZE, shuffle=True)\n",
    "val_loader = DataLoader(Subset(train_dataset, val_idx), batch_size=BATCH_SIZE, shuffle=False)\n",
    "\n",
    "# [Step7] 모델/손실/옵티마이저\n",
    "# model = nn.DataParallel(baseline_CNN_5day(dr_rate=0.5, stt_chnl=1)).to(DEVICE) #VGG_Baseline모델\n",
    "model = nn.DataParallel(SENet_CNN_5day(dr_rate=0.5, stt_chnl=1)).to(DEVICE)\n",
    "\n",
    "optimizer = optim.Adam(model.parameters(), lr=LR)\n",
    "criterion = nn.CrossEntropyLoss()\n",
    "\n",
    "# [Step8] 학습\n",
    "save_model_path = \"./baseline_model.pt\"\n",
    "save_history_path = \"./baseline_history.pt\"\n",
    "\n",
    "train_acc, val_acc, train_epochs = Train_Nepoch_ES_AMP(\n",
    "    model, train_loader, val_loader, criterion, DEVICE, optimizer,\n",
    "    EPOCHS, BATCH_SIZE, TRAIN_RATIO, save_model_path, save_history_path, N_EPOCH_ES\n",
    ")\n",
    "\n",
    "# [Step9] 테스트 데이터셋 로딩\n",
    "test_dataset = CustomDataset_all(\n",
    "    image_data_path=image_path,\n",
    "    DB_path=DB_path,\n",
    "    data_source='FnGuide',\n",
    "    train=False,\n",
    "    data_date=data_date,\n",
    "    F_day_type=5,\n",
    "    T_day_type=5,\n",
    "    Pred_Hrz=5,\n",
    "    until_date=test_DATE,\n",
    "    stt_date=learn_DATE + pd.DateOffset(days=1),\n",
    "    cap_criterion=cap_criterion,\n",
    "    transform=transform,\n",
    "    country=\"KR\"\n",
    ")\n",
    "test_loader = DataLoader(test_dataset, batch_size=256, shuffle=False)\n",
    "\n",
    "# [Step10] 평가\n",
    "model.load_state_dict(torch.load(save_model_path))\n",
    "avg_loss, preds_tmp, codes, dates, returns, targets = eval_loop(test_loader, model, criterion, DEVICE)\n",
    "\n",
    "pred_probs = torch.nn.Softmax(dim=1)(preds_tmp)\n",
    "preds = pred_probs.argmax(dim=1).cpu().numpy()\n",
    "labels = targets\n",
    "\n",
    "acc = accuracy_score(labels, preds)\n",
    "prec = precision_score(labels, preds)\n",
    "rec = recall_score(labels, preds)\n",
    "f1 = f1_score(labels, preds)\n",
    "\n",
    "print(\"=\"*30)\n",
    "print(f\"Accuracy  : {acc*100:.2f}%\")\n",
    "print(f\"Precision : {prec*100:.2f}%\")\n",
    "print(f\"Recall    : {rec*100:.2f}%\")\n",
    "print(f\"F1 Score  : {f1*100:.2f}%\")\n",
    "\n",
    "\"\"\""
   ]
  },
  {
   "cell_type": "code",
   "execution_count": null,
   "id": "cc2aae46-93ee-415c-889e-3da7cbeb5681",
   "metadata": {},
   "outputs": [],
   "source": []
  },
  {
   "cell_type": "code",
   "execution_count": null,
   "id": "7a8f7cb1-b9cc-477a-9209-ca64053b597f",
   "metadata": {},
   "outputs": [],
   "source": []
  }
 ],
 "metadata": {
  "kernelspec": {
   "display_name": "Python 3 (ipykernel)",
   "language": "python",
   "name": "python3"
  },
  "language_info": {
   "codemirror_mode": {
    "name": "ipython",
    "version": 3
   },
   "file_extension": ".py",
   "mimetype": "text/x-python",
   "name": "python",
   "nbconvert_exporter": "python",
   "pygments_lexer": "ipython3",
   "version": "3.12.4"
  }
 },
 "nbformat": 4,
 "nbformat_minor": 5
}
